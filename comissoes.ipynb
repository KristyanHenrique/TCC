{
 "cells": [
  {
   "cell_type": "code",
   "execution_count": 8,
   "id": "fac6357b-dfe8-4a7a-8b82-9c51750cbb21",
   "metadata": {},
   "outputs": [],
   "source": [
    "import pandas as pd\n",
    "import requests\n",
    "import xmltodict\n",
    "import json\n",
    "import csv\n",
    "import xml.etree.ElementTree as ET"
   ]
  },
  {
   "cell_type": "code",
   "execution_count": 9,
   "id": "0d094f02-9944-4af0-b7e9-9c821e325fc9",
   "metadata": {},
   "outputs": [],
   "source": [
    "listaParlamentar = pd.read_csv(\"./dados/ListaParlamentarEmExercicio.csv\", sep=\";\" )\n",
    "listaParlamentar = listaParlamentar.groupby(['CodigoParlamentar']).first()"
   ]
  },
  {
   "cell_type": "code",
   "execution_count": 13,
   "id": "eec12bf5-84fe-4942-a5ba-c3180ec7411d",
   "metadata": {},
   "outputs": [],
   "source": [
    "def requisitarComissoesDoSenador(codigo,nome):\n",
    "    url = 'https://legis.senado.leg.br/dadosabertos/senador/'+str(codigo)+'/comissoes'\n",
    "    response = requests.get(url)\n",
    "    tabela = []\n",
    "    if response.status_code == 200:\n",
    "        tree = ET.fromstring(response.content)\n",
    "        for elemento in tree.findall('.//Comissao'):\n",
    "            CodigoComissao = elemento.find('IdentificacaoComissao/CodigoComissao').text\n",
    "            SiglaComissao = elemento.find('IdentificacaoComissao/SiglaComissao').text\n",
    "            NomeComissao = elemento.find('IdentificacaoComissao/NomeComissao').text\n",
    "            SiglaCasaComissao = elemento.find('IdentificacaoComissao/SiglaCasaComissao').text\n",
    "            DescricaoParticipacao = elemento.find('DescricaoParticipacao').text\n",
    "            tabela.append([codigo,CodigoComissao,SiglaComissao,NomeComissao,SiglaCasaComissao,DescricaoParticipacao,])\n",
    "        df = pd.DataFrame(data=tabela, columns=['codigoParlamentar','CodigoComissao','SiglaComissao','NomeComissao','SiglaCasaComissao','DescricaoParticipacao',])\n",
    "        df.to_csv(f'./dados/comissoes/{nome}.csv',index=False)\n",
    "    else:\n",
    "        print(\"deu Ruim\")"
   ]
  },
  {
   "cell_type": "code",
   "execution_count": 14,
   "id": "4b5745fe-575c-4582-b20b-5f9e2fa0f28e",
   "metadata": {},
   "outputs": [],
   "source": [
    "for i,r in listaParlamentar.iterrows():\n",
    "    requisitarComissoesDoSenador(i,r['NomeParlamentar'])"
   ]
  }
 ],
 "metadata": {
  "kernelspec": {
   "display_name": "Python 3 (ipykernel)",
   "language": "python",
   "name": "python3"
  },
  "language_info": {
   "codemirror_mode": {
    "name": "ipython",
    "version": 3
   },
   "file_extension": ".py",
   "mimetype": "text/x-python",
   "name": "python",
   "nbconvert_exporter": "python",
   "pygments_lexer": "ipython3",
   "version": "3.12.4"
  }
 },
 "nbformat": 4,
 "nbformat_minor": 5
}
