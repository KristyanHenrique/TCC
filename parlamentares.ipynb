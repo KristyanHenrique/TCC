{
 "cells": [
  {
   "cell_type": "code",
   "execution_count": 2,
   "id": "fac6357b-dfe8-4a7a-8b82-9c51750cbb21",
   "metadata": {},
   "outputs": [],
   "source": [
    "import pandas as pd\n",
    "import requests"
   ]
  },
  {
   "cell_type": "code",
   "execution_count": 10,
   "id": "0d094f02-9944-4af0-b7e9-9c821e325fc9",
   "metadata": {},
   "outputs": [],
   "source": [
    "listaParlamentar = pd.read_csv(\"./dados/ListaParlamentarEmExercicio.csv\", sep=\";\" )\n",
    "listaParlamentar = listaParlamentar.groupby(['CodigoParlamentar']).first()"
   ]
  },
  {
   "cell_type": "code",
   "execution_count": 12,
   "id": "eec12bf5-84fe-4942-a5ba-c3180ec7411d",
   "metadata": {},
   "outputs": [],
   "source": [
    "listaParlamentar.to_csv('./dados/parlamentarTratado.csv', index=True)"
   ]
  }
 ],
 "metadata": {
  "kernelspec": {
   "display_name": "Python 3 (ipykernel)",
   "language": "python",
   "name": "python3"
  },
  "language_info": {
   "codemirror_mode": {
    "name": "ipython",
    "version": 3
   },
   "file_extension": ".py",
   "mimetype": "text/x-python",
   "name": "python",
   "nbconvert_exporter": "python",
   "pygments_lexer": "ipython3",
   "version": "3.12.4"
  }
 },
 "nbformat": 4,
 "nbformat_minor": 5
}
